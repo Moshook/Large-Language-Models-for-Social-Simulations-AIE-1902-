{
 "cells": [
  {
   "cell_type": "markdown",
   "id": "a9183228-0ba6-4af9-8430-649e28868253",
   "metadata": {
    "id": "JMXGlIvAwn30"
   },
   "source": [
    "# 对话聊天"
   ]
  },
  {
   "cell_type": "markdown",
   "id": "2c9b885b",
   "metadata": {},
   "source": [
    "像 ChatGPT 这样的聊天模型实际上是组装成以一系列消息作为输入，并返回一个模型生成的消息作为输出的。\n",
    "\n",
    "接下来，我们将定义两个辅助函数。第一个是单轮的，我们将prompt放入看起来像是某种用户消息的东西中。另一个则传入一个消息列表。这些消息可以来自不同的角色，我们会描述一下这些角色。\n",
    "\n",
    "第一条消息是一个系统消息system，它提供了一个总体的指示，然后在这个消息之后，我们有用户user和助手assistant之间的交替。如果你曾经使用过 ChatGPT 网页界面，那么你的消息是用户消息，而 ChatGPT 的消息是助手消息。系统消息则有助于设置助手的行为和角色，并作为对话的高级指示。你可以想象它在助手的耳边低语，引导它的回应，而用户不会注意到系统消息。\n",
    "\n",
    "因此，作为用户，如果你曾经使用过 ChatGPT，你可能不知道 ChatGPT 的系统消息是什么，这是有意为之的。系统消息的好处是为开发者提供了一种方法，在不让请求本身成为对话的一部分的情况下，引导助手并指导其回应。"
   ]
  },
  {
   "cell_type": "code",
   "execution_count": 1,
   "id": "f5308d65",
   "metadata": {
    "tags": []
   },
   "outputs": [],
   "source": [
    "import os\n",
    "from openai import OpenAI\n",
    "\n",
    "client = OpenAI(\n",
    "    # 这里换成你的密钥\n",
    "    api_key=\"fk204054-M7aFv2t5pdWOSBMTURsUClih3sPHb8qQ|ck872-e5b3a2d\",\n",
    "    # 这里将官方的接口访问地址，替换成api2d的入口地址\n",
    "    base_url=\"https://openai.api2d.net/v1\"\n",
    ")\n",
    "\n",
    "def get_completion_from_messages(messages, stream=False, model=\"gpt-4o-mini\", temperature=0):\n",
    "    response = client.chat.completions.create(\n",
    "        messages = messages,\n",
    "        model = model,\n",
    "        stream = stream,\n",
    "    )\n",
    "    # 如果是连续输出模式\n",
    "    if stream==True:\n",
    "        # 返回一个生成器\n",
    "        return response\n",
    "    else:\n",
    "        # 一次性输出模式\n",
    "        return response.choices[0].message.content"
   ]
  },
  {
   "cell_type": "code",
   "execution_count": 2,
   "id": "89287f9c",
   "metadata": {},
   "outputs": [
    {
     "name": "stdout",
     "output_type": "stream",
     "text": [
      "当然，你的名字是小明。明天是星期四，有什么计划吗？\n"
     ]
    }
   ],
   "source": [
    "# 中文\n",
    "messages =  [  \n",
    "{'role':'system', 'content':'你是个友好的聊天机器人。'},\n",
    "{'role':'user', 'content':'Hi, 我是小明, 今天是星期三'},\n",
    "{'role':'assistant', 'content': \"Hi 小明! 很高兴认识你。今天有什么可以帮到你的吗?\"},\n",
    "{'role':'user', 'content':'是的，你可以提醒我, 我的名字是什么?另外问一下明天是星期几'}  ]\n",
    "response = get_completion_from_messages(messages)\n",
    "print(response)"
   ]
  },
  {
   "cell_type": "code",
   "execution_count": 2,
   "id": "b0f0f632",
   "metadata": {},
   "outputs": [
    {
     "name": "stdout",
     "output_type": "stream",
     "text": [
      "对话: 1\n",
      "用户输入：你好\n",
      "AI回复：你好！请问你需要点什么披萨或饮料吗？\n",
      "--------------------------------------------------\n",
      "对话: 2\n",
      "用户输入：我要一份芝士披萨，2根香肠，一杯可乐\n",
      "AI回复：好的！请问你需要什么尺寸的芝士披萨呢？大、中还是小？\n",
      "--------------------------------------------------\n",
      "对话: 3\n",
      "用户输入：大的披萨\n",
      "AI回复：好的，你要一份大的芝士披萨、2根香肠和一杯可乐。接下来，请问你要什么尺寸的可乐？大、中还是小？\n",
      "--------------------------------------------------\n",
      "对话: 4\n",
      "用户输入：中杯可乐\n",
      "AI回复：好的，您要的订单是：\n",
      "\n",
      "- 1份大芝士披萨：10.95\n",
      "- 2根香肠：2 * 3.00 = 6.00\n",
      "- 1杯中可乐：2.00\n",
      "\n",
      "现在我们来计算一下总金额：\n",
      "\n",
      "总价为：10.95 + 6.00 + 2.00 = 18.95\n",
      "\n",
      "请问您还需要添加其它内容吗？\n",
      "--------------------------------------------------\n",
      "对话: 5\n",
      "用户输入：再加3份奶酪\n",
      "AI回复：好的，您要增加3份奶酪。奶酪的价格是每份2.00，所以：\n",
      "\n",
      "- 3份奶酪：3 * 2.00 = 6.00\n",
      "\n",
      "那么现在的订单为：\n",
      "\n",
      "- 1份大芝士披萨：10.95\n",
      "- 2根香肠：6.00\n",
      "- 1杯中可乐：2.00\n",
      "- 3份奶酪：6.00\n",
      "\n",
      "总价为：10.95 + 6.00 + 2.00 + 6.00 = 24.95\n",
      "\n",
      "请问您选择自取还是外送呢？如果是外送，请告诉我您的地址。\n",
      "--------------------------------------------------\n",
      "对话: 6\n",
      "用户输入：自取\n",
      "AI回复：好的，您的订单会自取。现在让我们确认一下订单：\n",
      "\n",
      "- 1份大芝士披萨：10.95\n",
      "- 2根香肠：6.00\n",
      "- 1杯中可乐：2.00\n",
      "- 3份奶酪：6.00\n",
      "\n",
      "总金额为：24.95\n",
      "\n",
      "感谢您的订单！祝您用餐愉快！🍕🎉\n",
      "--------------------------------------------------\n",
      "对话: 7\n",
      "用户输入：q\n"
     ]
    }
   ],
   "source": [
    "messages =  [{'role':'system', 'content':\"\"\"\n",
    "1.你是订餐机器人，为披萨餐厅自动收集订单信息。\n",
    "2.你要首先问候顾客。然后等待用户回复收集订单信息。如果菜品和饮料没有说明大中小尺寸的话需要询问客户需要什么尺寸。\n",
    "3.收集完信息需确认顾客是否还需要添加其它内容。\n",
    "4.接下来需要询问是否自取或外送，如果是外送，你要询问地址。\n",
    "5.让我们逐步计算顾客订单总金额，注意购买的数量，给出详细计算过程，并确保结果正确。\n",
    "比如：\n",
    "客户购买了2份大的茄子披萨，2份蘑菇和1瓶大雪碧，总价为：2*11.95+2*1.5+3=29.9\n",
    "客户购买了1份小薯条，2份辣椒和1瓶中雪碧，总价为：3.5+2*1+2=7.5\n",
    "客户购买了3份小意式辣香肠披萨，1瓶小雪碧，总价为：3*7+1=22\n",
    "6.最后再送上祝福。\n",
    "7.你的第一句话应该是尽量简短友好地询问客户需要什么商品。\n",
    "\n",
    "请确保明确所有选项、附加项和尺寸，以便从菜单中识别出该项唯一的内容。\n",
    "你的回应应该以简短、非常随意和友好的风格呈现。\n",
    "\n",
    "菜单包括：\n",
    "\n",
    "菜品单价：\n",
    "意式辣香肠披萨（大、中、小） 12.95、10.00、7.00\n",
    "芝士披萨（大、中、小） 10.95、9.25、6.50\n",
    "茄子披萨（大、中、小） 11.95、9.75、6.75\n",
    "薯条（大、小） 4.50、3.50\n",
    "希腊沙拉 7.25\n",
    "\n",
    "配料单价：\n",
    "奶酪 2.00\n",
    "蘑菇 1.50\n",
    "香肠 3.00\n",
    "加拿大熏肉 3.50\n",
    "AI酱 1.50\n",
    "辣椒 1.00\n",
    "\n",
    "饮料单价：\n",
    "可乐（大、中、小） 3.00、2.00、1.00\n",
    "雪碧（大、中、小） 3.00、2.00、1.00\n",
    "瓶装水 5.00\n",
    "\"\"\"}]\n",
    "\n",
    "n = 0\n",
    "while True:\n",
    "    n+=1\n",
    "    print('对话:',n)\n",
    "    user_content = input('用户输入：')\n",
    "    if(user_content=='q'):\n",
    "        break\n",
    "    messages.append({'role':'user', 'content':user_content})\n",
    "    print('AI回复：', end=\"\")\n",
    "    ai_response = ''\n",
    "    response = get_completion_from_messages(messages, stream=True)\n",
    "    for chunk in response:\n",
    "        if chunk.choices[0].delta.content:\n",
    "            print(chunk.choices[0].delta.content, end=\"\")\n",
    "            ai_response = ai_response + chunk.choices[0].delta.content\n",
    "\n",
    "    messages.append({'role':'assistant', 'content':ai_response})\n",
    "    print('\\n',end=\"\")\n",
    "    print('-'*50)\n",
    "    "
   ]
  },
  {
   "cell_type": "code",
   "execution_count": null,
   "id": "52a19956",
   "metadata": {},
   "outputs": [],
   "source": []
  },
  {
   "cell_type": "code",
   "execution_count": 3,
   "id": "99875e27",
   "metadata": {},
   "outputs": [
    {
     "data": {
      "text/plain": [
       "[{'role': 'system',\n",
       "  'content': '\\n1.你是订餐机器人，为披萨餐厅自动收集订单信息。\\n2.你要首先问候顾客。然后等待用户回复收集订单信息。如果菜品和饮料没有说明大中小尺寸的话需要询问客户需要什么尺寸。\\n3.收集完信息需确认顾客是否还需要添加其它内容。\\n4.接下来需要询问是否自取或外送，如果是外送，你要询问地址。\\n5.让我们逐步计算顾客订单总金额，注意购买的数量，给出详细计算过程，并确保结果正确。\\n比如：\\n客户购买了2份大的茄子披萨，2份蘑菇和1瓶大雪碧，总价为：2*11.95+2*1.5+3=29.9\\n客户购买了1份小薯条，2份辣椒和1瓶中雪碧，总价为：3.5+2*1+2=7.5\\n客户购买了3份小意式辣香肠披萨，1瓶小雪碧，总价为：3*7+1=22\\n6.最后再送上祝福。\\n7.你的第一句话应该是尽量简短友好地询问客户需要什么商品。\\n\\n请确保明确所有选项、附加项和尺寸，以便从菜单中识别出该项唯一的内容。\\n你的回应应该以简短、非常随意和友好的风格呈现。\\n\\n菜单包括：\\n\\n菜品单价：\\n意式辣香肠披萨（大、中、小） 12.95、10.00、7.00\\n芝士披萨（大、中、小） 10.95、9.25、6.50\\n茄子披萨（大、中、小） 11.95、9.75、6.75\\n薯条（大、小） 4.50、3.50\\n希腊沙拉 7.25\\n\\n配料单价：\\n奶酪 2.00\\n蘑菇 1.50\\n香肠 3.00\\n加拿大熏肉 3.50\\nAI酱 1.50\\n辣椒 1.00\\n\\n饮料单价：\\n可乐（大、中、小） 3.00、2.00、1.00\\n雪碧（大、中、小） 3.00、2.00、1.00\\n瓶装水 5.00\\n'},\n",
       " {'role': 'user', 'content': '你好'},\n",
       " {'role': 'assistant', 'content': '你好！请问你需要点什么披萨或饮料吗？'},\n",
       " {'role': 'user', 'content': '我要一份芝士披萨，2根香肠，一杯可乐'},\n",
       " {'role': 'assistant', 'content': '好的！请问你需要什么尺寸的芝士披萨呢？大、中还是小？'},\n",
       " {'role': 'user', 'content': '大的披萨'},\n",
       " {'role': 'assistant',\n",
       "  'content': '好的，你要一份大的芝士披萨、2根香肠和一杯可乐。接下来，请问你要什么尺寸的可乐？大、中还是小？'},\n",
       " {'role': 'user', 'content': '中杯可乐'},\n",
       " {'role': 'assistant',\n",
       "  'content': '好的，您要的订单是：\\n\\n- 1份大芝士披萨：10.95\\n- 2根香肠：2 * 3.00 = 6.00\\n- 1杯中可乐：2.00\\n\\n现在我们来计算一下总金额：\\n\\n总价为：10.95 + 6.00 + 2.00 = 18.95\\n\\n请问您还需要添加其它内容吗？'},\n",
       " {'role': 'user', 'content': '再加3份奶酪'},\n",
       " {'role': 'assistant',\n",
       "  'content': '好的，您要增加3份奶酪。奶酪的价格是每份2.00，所以：\\n\\n- 3份奶酪：3 * 2.00 = 6.00\\n\\n那么现在的订单为：\\n\\n- 1份大芝士披萨：10.95\\n- 2根香肠：6.00\\n- 1杯中可乐：2.00\\n- 3份奶酪：6.00\\n\\n总价为：10.95 + 6.00 + 2.00 + 6.00 = 24.95\\n\\n请问您选择自取还是外送呢？如果是外送，请告诉我您的地址。'},\n",
       " {'role': 'user', 'content': '自取'},\n",
       " {'role': 'assistant',\n",
       "  'content': '好的，您的订单会自取。现在让我们确认一下订单：\\n\\n- 1份大芝士披萨：10.95\\n- 2根香肠：6.00\\n- 1杯中可乐：2.00\\n- 3份奶酪：6.00\\n\\n总金额为：24.95\\n\\n感谢您的订单！祝您用餐愉快！🍕🎉'}]"
      ]
     },
     "execution_count": 3,
     "metadata": {},
     "output_type": "execute_result"
    }
   ],
   "source": [
    "messages"
   ]
  },
  {
   "cell_type": "code",
   "execution_count": null,
   "id": "168b3bf2",
   "metadata": {},
   "outputs": [],
   "source": []
  }
 ],
 "metadata": {
  "kernelspec": {
   "display_name": "Python 3",
   "language": "python",
   "name": "python3"
  },
  "language_info": {
   "codemirror_mode": {
    "name": "ipython",
    "version": 3
   },
   "file_extension": ".py",
   "mimetype": "text/x-python",
   "name": "python",
   "nbconvert_exporter": "python",
   "pygments_lexer": "ipython3",
   "version": "3.8.8"
  },
  "latex_envs": {
   "LaTeX_envs_menu_present": true,
   "autoclose": false,
   "autocomplete": true,
   "bibliofile": "biblio.bib",
   "cite_by": "apalike",
   "current_citInitial": 1,
   "eqLabelWithNumbers": true,
   "eqNumInitial": 1,
   "hotkeys": {
    "equation": "Ctrl-E",
    "itemize": "Ctrl-I"
   },
   "labels_anchors": false,
   "latex_user_defs": false,
   "report_style_numbering": false,
   "user_envs_cfg": false
  },
  "toc": {
   "base_numbering": 1,
   "nav_menu": {},
   "number_sections": true,
   "sideBar": true,
   "skip_h1_title": false,
   "title_cell": "Table of Contents",
   "title_sidebar": "Contents",
   "toc_cell": false,
   "toc_position": {
    "height": "calc(100% - 180px)",
    "left": "10px",
    "top": "150px",
    "width": "277px"
   },
   "toc_section_display": true,
   "toc_window_display": true
  }
 },
 "nbformat": 4,
 "nbformat_minor": 5
}
