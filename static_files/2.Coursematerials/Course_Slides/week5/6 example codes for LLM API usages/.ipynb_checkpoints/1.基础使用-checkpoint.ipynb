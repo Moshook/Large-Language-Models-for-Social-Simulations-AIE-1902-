{
 "cells": [
  {
   "cell_type": "markdown",
   "id": "ecad4798",
   "metadata": {},
   "source": [
    "- 可以使用国内的api2d(https://api2d.com/)\n",
    "    - api访问地址：\n",
    "        - https://openai.api2d.net/v1\n",
    "    - 支持的模型有：\n",
    "        - gpt-4o-mini\n",
    "        - gpt-4o"
   ]
  },
  {
   "cell_type": "markdown",
   "id": "507928be",
   "metadata": {},
   "source": [
    "首先需要安装所需第三方库：\n",
    "\n",
    "openai：\n",
    "\n",
    "```bash\n",
    "pip install openai\n",
    "```"
   ]
  },
  {
   "cell_type": "code",
   "execution_count": 2,
   "id": "447cb336",
   "metadata": {},
   "outputs": [
    {
     "name": "stdout",
     "output_type": "stream",
     "text": [
      "Defaulting to user installation because normal site-packages is not writeable\n",
      "Looking in indexes: https://pypi.tuna.tsinghua.edu.cn/simple\n",
      "Requirement already satisfied: openai in c:\\users\\11447\\appdata\\roaming\\python\\python310\\site-packages (1.25.2)\n",
      "Requirement already satisfied: distro<2,>=1.7.0 in c:\\users\\11447\\appdata\\roaming\\python\\python310\\site-packages (from openai) (1.9.0)\n",
      "Requirement already satisfied: sniffio in d:\\anaconda\\lib\\site-packages (from openai) (1.3.0)\n",
      "Requirement already satisfied: tqdm>4 in d:\\anaconda\\lib\\site-packages (from openai) (4.66.2)\n",
      "Requirement already satisfied: httpx<1,>=0.23.0 in c:\\users\\11447\\appdata\\roaming\\python\\python310\\site-packages (from openai) (0.27.0)\n",
      "Requirement already satisfied: anyio<5,>=3.5.0 in d:\\anaconda\\lib\\site-packages (from openai) (3.5.0)\n",
      "Requirement already satisfied: typing-extensions<5,>=4.7 in c:\\users\\11447\\appdata\\roaming\\python\\python310\\site-packages (from openai) (4.11.0)\n",
      "Requirement already satisfied: pydantic<3,>=1.9.0 in c:\\users\\11447\\appdata\\roaming\\python\\python310\\site-packages (from openai) (2.7.1)\n",
      "Requirement already satisfied: idna>=2.8 in d:\\anaconda\\lib\\site-packages (from anyio<5,>=3.5.0->openai) (3.7)\n",
      "Requirement already satisfied: httpcore==1.* in c:\\users\\11447\\appdata\\roaming\\python\\python310\\site-packages (from httpx<1,>=0.23.0->openai) (1.0.5)\n",
      "Requirement already satisfied: certifi in d:\\anaconda\\lib\\site-packages (from httpx<1,>=0.23.0->openai) (2024.2.2)\n",
      "Requirement already satisfied: h11<0.15,>=0.13 in c:\\users\\11447\\appdata\\roaming\\python\\python310\\site-packages (from httpcore==1.*->httpx<1,>=0.23.0->openai) (0.14.0)\n",
      "Requirement already satisfied: pydantic-core==2.18.2 in c:\\users\\11447\\appdata\\roaming\\python\\python310\\site-packages (from pydantic<3,>=1.9.0->openai) (2.18.2)\n",
      "Requirement already satisfied: annotated-types>=0.4.0 in c:\\users\\11447\\appdata\\roaming\\python\\python310\\site-packages (from pydantic<3,>=1.9.0->openai) (0.6.0)\n",
      "Requirement already satisfied: colorama in d:\\anaconda\\lib\\site-packages (from tqdm>4->openai) (0.4.6)\n"
     ]
    },
    {
     "name": "stderr",
     "output_type": "stream",
     "text": [
      "WARNING: Ignoring invalid distribution -rotobuf (c:\\users\\11447\\appdata\\roaming\\python\\python310\\site-packages)\n",
      "WARNING: Ignoring invalid distribution -rotobuf (c:\\users\\11447\\appdata\\roaming\\python\\python310\\site-packages)\n",
      "WARNING: Ignoring invalid distribution -rotobuf (c:\\users\\11447\\appdata\\roaming\\python\\python310\\site-packages)\n",
      "WARNING: Ignoring invalid distribution -rotobuf (c:\\users\\11447\\appdata\\roaming\\python\\python310\\site-packages)\n",
      "WARNING: Ignoring invalid distribution -rotobuf (c:\\users\\11447\\appdata\\roaming\\python\\python310\\site-packages)\n",
      "WARNING: Ignoring invalid distribution -rotobuf (c:\\users\\11447\\appdata\\roaming\\python\\python310\\site-packages)\n"
     ]
    }
   ],
   "source": [
    "!pip install openai -i https://pypi.tuna.tsinghua.edu.cn/simple"
   ]
  },
  {
   "cell_type": "code",
   "execution_count": 3,
   "id": "059bde06",
   "metadata": {},
   "outputs": [],
   "source": [
    "from openai import OpenAI\n",
    "\n",
    "client = OpenAI(\n",
    "    # 这里换成你的密钥\n",
    "    api_key=\"fk204054-M7aFv2t5pdWOSBMTURsUClih3sPHb8qQ|ck872-e5b3a2d\",\n",
    "    # 这里将官方的接口访问地址，替换成api2d的入口地址\n",
    "    base_url=\"https://openai.api2d.net/v1\"\n",
    ")\n",
    "\n",
    "def get_completion(prompt, stream=False, model=\"gpt-4o-mini\"):\n",
    "    messages = [{\"role\": \"user\", \"content\": prompt}]\n",
    "    response = client.chat.completions.create(\n",
    "        messages = messages,\n",
    "        model = model,\n",
    "        stream = stream\n",
    "    )\n",
    "    # 如果是连续输出模式\n",
    "    if stream==True:\n",
    "        # 返回一个生成器\n",
    "        return response\n",
    "    else:\n",
    "        # 一次性输出模式\n",
    "        return response.choices[0].message.content"
   ]
  },
  {
   "cell_type": "code",
   "execution_count": 4,
   "id": "a359c173",
   "metadata": {},
   "outputs": [
    {
     "name": "stdout",
     "output_type": "stream",
     "text": [
      "你好！8 + 22 = 30。\n"
     ]
    }
   ],
   "source": [
    "prompt = \"你好,8+22=？\"\n",
    "response = get_completion(prompt)\n",
    "print(response)"
   ]
  },
  {
   "cell_type": "code",
   "execution_count": null,
   "id": "53d46f76",
   "metadata": {},
   "outputs": [],
   "source": [
    "10000篇内容提取\n",
    "for 单篇文章 in 10000篇文章：\n",
    "    读取这篇文章的内容\n",
    "    发送给gpt，让它帮你进行文章内容提取\n",
    "    保存gpt提取的内容，保存到excel表格中"
   ]
  },
  {
   "cell_type": "code",
   "execution_count": 3,
   "id": "9971b82e",
   "metadata": {},
   "outputs": [
    {
     "name": "stdout",
     "output_type": "stream",
     "text": [
      "人工智能（AI）在各个领域有广泛的应用场景，以下是10个常见的应用：\n",
      "\n",
      "1. **自动驾驶**：利用AI算法分析道路情况，识别障碍物，实现车辆的自动导航与驾驶。\n",
      "\n",
      "2. **语音助手**：如Siri、Alexa等，通过自然语言处理技术帮助用户进行语音搜索、控制智能家居等操作。\n",
      "\n",
      "3. **图像识别**：应用于安防监控、人脸识别、医疗影像分析等，自动识别和分类图像中的对象。\n",
      "\n",
      "4. **推荐系统**：在电商、社交媒体、视频平台等，通过分析用户行为数据，提供个性化的商品、内容推荐。\n",
      "\n",
      "5. **聊天机器人**：用于客户服务、在线咨询和信息查询，能够提供24/7的自动化响应与支持。\n",
      "\n",
      "6. **智能制造**：在生产线上通过AI优化生产流程、进行故障预测和设备维护，提高生产效率。\n",
      "\n",
      "7. **金融风控**：通过AI分析交易数据和用户行为，识别欺诈行为和信用风险，提高金融安全性。\n",
      "\n",
      "8. **健康监测**：结合可穿戴设备和AI算法，实现对患者健康数据的实时监控与分析，帮助早期发现疾病。\n",
      "\n",
      "9. **内容生成**：通过自然语言处理和生成模型，自动撰写新闻稿、产品描述或文学作品等。\n",
      "\n",
      "10. **教育辅导**：使用AI技术提供个性化学习计划和在线辅导，帮助学生根据自身进度和需求进行学习。\n",
      "\n",
      "这些应用场景展示了AI在提升效率、优化体验和推动创新方面的重要作用。\n"
     ]
    }
   ],
   "source": [
    "prompt = \"人工智能有哪些应用场景，简单写10条\"\n",
    "response = get_completion(prompt)\n",
    "print(response)"
   ]
  },
  {
   "cell_type": "code",
   "execution_count": 10,
   "id": "f0ff979a",
   "metadata": {},
   "outputs": [
    {
     "name": "stdout",
     "output_type": "stream",
     "text": [
      "0\n",
      "1\n",
      "2\n",
      "3\n",
      "4\n"
     ]
    }
   ],
   "source": [
    "for i in range(5):\n",
    "    print(i)"
   ]
  },
  {
   "cell_type": "code",
   "execution_count": 4,
   "id": "9867b010",
   "metadata": {},
   "outputs": [
    {
     "name": "stdout",
     "output_type": "stream",
     "text": [
      "人工智能（AI）在各个领域有广泛的应用场景，以下是12条常见的应用场景：\n",
      "\n",
      "1. **智能客服**：通过聊天机器人和语音识别技术，提供24/7的客户服务。\n",
      "\n",
      "2. **图像识别**：应用于安全监控、人脸识别、医学影像分析等领域。\n",
      "\n",
      "3. **语音识别**：在智能助手（如Alexa、Siri）中实现语音指令和搜索功能。\n",
      "\n",
      "4. **自然语言处理**：用于文本分析、情感分析和自动翻译等场景。\n",
      "\n",
      "5. **自动驾驶**：通过传感器和深度学习算法实现车辆的自主驾驶。\n",
      "\n",
      "6. **推荐系统**：在电子商务和流媒体平台中，通过用户行为分析提供个性化推荐。\n",
      "\n",
      "7. **智能制造**：利用机器学习和机器人技术优化生产流程和提高效率。\n",
      "\n",
      "8. **金融风控**：通过数据分析和预测模型识别潜在的欺诈行为及信用风险。\n",
      "\n",
      "9. **医疗诊断**：辅助医生进行疾病诊断、药物研发和个性化治疗方案制定。\n",
      "\n",
      "10. **智能家居**：通过物联网和人工智能技术实现家居设备的自动化控制和智能管理。\n",
      "\n",
      "11. **游戏开发**：在视频游戏中创建智能NPC（非玩家角色）和增强游戏体验的算法。\n",
      "\n",
      "12. **农业技术**：利用图像识别和传感器数据分析来监测作物健康和优化农业生产。\n",
      "\n",
      "这些应用场景展示了人工智能在各个行业中的重要性和潜力。\n"
     ]
    }
   ],
   "source": [
    "prompt = \"人工智能有哪些应用场景，简单写12条\"\n",
    "response = get_completion(prompt, stream=True)\n",
    "for chunk in response:\n",
    "    if chunk.choices[0].delta.content:\n",
    "        print(chunk.choices[0].delta.content, end=\"\")\n",
    "print()"
   ]
  },
  {
   "cell_type": "code",
   "execution_count": null,
   "id": "3864ded6",
   "metadata": {},
   "outputs": [],
   "source": []
  },
  {
   "cell_type": "code",
   "execution_count": null,
   "id": "bc7de398",
   "metadata": {},
   "outputs": [],
   "source": []
  },
  {
   "cell_type": "code",
   "execution_count": 32,
   "id": "726c5c40",
   "metadata": {},
   "outputs": [
    {
     "name": "stdout",
     "output_type": "stream",
     "text": [
      "| 商品种类     |               数量              |\n",
      "|---------------|------------------------------|\n",
      "| 尿布           |            200片               |\n",
      "| 婴儿奶瓶     |            6个                   |\n",
      "| 婴儿衣服     |            10套                |\n",
      "| 婴儿床         |            1张                   |\n",
      "| 婴儿床上用品 |         3套                    |\n",
      "| 婴儿推车     |            1辆                   |\n",
      "| 婴儿车床     |            1个                   |\n",
      "| 湿纸巾         |            20包                |\n",
      "| 婴儿浴盆     |            1个                   |\n",
      "| 婴儿洗发沐浴露 |       6瓶                   |\n",
      "| 婴儿奶粉     |            20罐                 |\n",
      "| 婴儿奶瓶刷   |            2个                   |\n",
      "| 婴儿指甲钳   |            1个                   |\n",
      "| 婴儿舒缓剂   |            5瓶                   |\n",
      "| 婴儿睡袋     |            3个                   |\n"
     ]
    }
   ],
   "source": [
    "prompt = \"请帮我为【我的新生儿宝宝】生成一份尽可能全面的购物清单，其中应包括【尿布】，【奶瓶】，【婴儿衣服】等所有需要的商品，购物清单应该包含数量，商品种类不少于【15】种。把结果用表格的形式输出。\"\n",
    "response = get_completion(prompt, stream=True, max_tokens=None)\n",
    "for chunk in response:\n",
    "    if chunk.choices[0].delta.content:\n",
    "        print(chunk.choices[0].delta.content, end=\"\")"
   ]
  },
  {
   "cell_type": "code",
   "execution_count": 7,
   "id": "7555ccc0",
   "metadata": {},
   "outputs": [
    {
     "data": {
      "text/plain": [
       "'3.10.9 (main, Mar  1 2023, 12:33:47) [Clang 14.0.6 ]'"
      ]
     },
     "execution_count": 7,
     "metadata": {},
     "output_type": "execute_result"
    }
   ],
   "source": [
    "import sys\n",
    "sys.version"
   ]
  },
  {
   "cell_type": "code",
   "execution_count": null,
   "id": "9099e94d",
   "metadata": {},
   "outputs": [],
   "source": []
  }
 ],
 "metadata": {
  "kernelspec": {
   "display_name": "Python 3",
   "language": "python",
   "name": "python3"
  },
  "language_info": {
   "codemirror_mode": {
    "name": "ipython",
    "version": 3
   },
   "file_extension": ".py",
   "mimetype": "text/x-python",
   "name": "python",
   "nbconvert_exporter": "python",
   "pygments_lexer": "ipython3",
   "version": "3.8.8"
  }
 },
 "nbformat": 4,
 "nbformat_minor": 5
}
